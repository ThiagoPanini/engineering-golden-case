{
 "cells": [
  {
   "cell_type": "markdown",
   "metadata": {},
   "source": [
    "`utils.logger`"
   ]
  },
  {
   "cell_type": "code",
   "execution_count": 1,
   "metadata": {},
   "outputs": [],
   "source": [
    "import logging\n",
    "\n",
    "\n",
    "def get_logger(\n",
    "    logger_name: str = \"notebook\",\n",
    "    logger_level: int = logging.INFO,\n",
    "    logger_date_format: str = \"%Y-%m-%d %H:%M:%S\"\n",
    ") -> logging.Logger:\n",
    "    # Criando um objeto Logger e estabelecendo seu nível\n",
    "    logger = logging.getLogger(logger_name)\n",
    "    logger.setLevel(logger_level)\n",
    "\n",
    "    # Configurando o formato da mensagem\n",
    "    log_format = \"%(levelname)s;%(asctime)s;%(filename)s;\"\n",
    "    log_format += \"%(lineno)d;%(message)s\"\n",
    "    formatter = logging.Formatter(log_format,\n",
    "                                  datefmt=logger_date_format)\n",
    "\n",
    "    # Configurando stream handler\n",
    "    stream_handler = logging.StreamHandler()\n",
    "    stream_handler.setFormatter(formatter)\n",
    "    logger.addHandler(stream_handler)\n",
    "\n",
    "    return logger\n"
   ]
  },
  {
   "cell_type": "markdown",
   "metadata": {},
   "source": [
    "`domain.entities.ticker.py`"
   ]
  },
  {
   "cell_type": "code",
   "execution_count": 2,
   "metadata": {},
   "outputs": [],
   "source": [
    "from datetime import date, datetime\n",
    "from pydantic import BaseModel, Field, model_validator, field_validator\n",
    "\n",
    "class Ticker(BaseModel):\n",
    "    code: str\n",
    "    code_international: str\n",
    "    company_name: str\n",
    "    source_info: str\n",
    "    dt_extracted: str = Field(default_factory=lambda: datetime.now().strftime(\"%Y-%m-%d %H:%M:%S\"))\n",
    "\n",
    "\n",
    "    @model_validator(mode=\"before\")\n",
    "    @classmethod\n",
    "    def generate_code_international(cls, values):\n",
    "        \"\"\"Garante a inclusão do atributo code_international para representação do ticker\"\"\"\n",
    "        values[\"code_international\"] = values[\"code\"] + \".SA\"\n",
    "        return values\n",
    "\n",
    "\n",
    "    @field_validator(\"source_info\")\n",
    "    @classmethod\n",
    "    def normalize_source_info(cls, value: str):\n",
    "        \"\"\"Garante a padronização do atributo source_info\"\"\"\n",
    "        return value.strip().lower()\n"
   ]
  },
  {
   "cell_type": "markdown",
   "metadata": {},
   "source": [
    "`domain.interfaces.repositories_interface`"
   ]
  },
  {
   "cell_type": "code",
   "execution_count": 3,
   "metadata": {},
   "outputs": [],
   "source": [
    "from abc import ABC, abstractmethod\n",
    "\n",
    "\n",
    "class ITickersInfoRepository(ABC):\n",
    "    \"\"\"Interface de contrato para armazenamento de informações de tickers da B3\"\"\"\n",
    "\n",
    "    @abstractmethod\n",
    "    def persist(self, ticker: Ticker) -> None:\n",
    "        pass\n"
   ]
  },
  {
   "cell_type": "markdown",
   "metadata": {},
   "source": [
    "`domain.interfaces.adapters_interface`"
   ]
  },
  {
   "cell_type": "code",
   "execution_count": 4,
   "metadata": {},
   "outputs": [],
   "source": [
    "from abc import ABC, abstractmethod\n",
    "\n",
    "\n",
    "class IHttpAdapter(ABC):\n",
    "    \"\"\"Interface de contrato para requisições HTTP/HTTPs via requests\"\"\"\n",
    "\n",
    "    @abstractmethod\n",
    "    def get(self):\n",
    "        pass\n",
    "\n",
    "\n",
    "class ITickersInfoAdapter(ABC):\n",
    "    \"\"\"Interface de contrato para coleta de informações de tickers da B3\"\"\"\n",
    "\n",
    "    @abstractmethod\n",
    "    def get_tickers(self) -> list[Ticker]:\n",
    "        pass\n"
   ]
  },
  {
   "cell_type": "markdown",
   "metadata": {},
   "source": [
    "`infra.adapters.requests_adapter`"
   ]
  },
  {
   "cell_type": "code",
   "execution_count": 5,
   "metadata": {},
   "outputs": [],
   "source": [
    "import requests\n",
    "from requests.adapters import HTTPAdapter, Retry\n",
    "\n",
    "\n",
    "logger = get_logger()\n",
    "\n",
    "\n",
    "class RequestsAdapter(IHttpAdapter):\n",
    "    def __init__(\n",
    "        self,\n",
    "        url: str,\n",
    "        timeout: int,\n",
    "        headers: dict[str, str],\n",
    "        num_retries: int,\n",
    "        backoff_factor: int,\n",
    "        status_forcelist: list[int],\n",
    "        session: requests.sessions.Session = requests.Session()\n",
    "    ):\n",
    "        self.__url = url\n",
    "        self.__timeout = timeout\n",
    "        self.__headers = headers\n",
    "        self.__num_retries = num_retries\n",
    "        self.__backoff_factor = backoff_factor\n",
    "        self.__status_forcelist = status_forcelist\n",
    "        self.__session = session\n",
    "\n",
    "        # Configurando sessão da requisição\n",
    "        self.__configure_request_session()\n",
    "\n",
    "\n",
    "    def __configure_request_session(self) -> None:\n",
    "        retry_config = Retry(\n",
    "            total=self.__num_retries,\n",
    "            backoff_factor=self.__backoff_factor,\n",
    "            status_forcelist=self.__status_forcelist\n",
    "        )\n",
    "\n",
    "        http_adapter = HTTPAdapter(max_retries=retry_config)\n",
    "        self.__session.mount(\"https://\", http_adapter)\n",
    "        self.__session.mount(\"http://\", http_adapter)\n",
    "\n",
    "\n",
    "    def get(self) -> requests.models.Response:\n",
    "        try:\n",
    "            response = self.__session.get(\n",
    "                url=self.__url,\n",
    "                headers=self.__headers,\n",
    "                timeout=self.__timeout\n",
    "            )\n",
    "\n",
    "            return response\n",
    "\n",
    "        except requests.Timeout as to_error:\n",
    "            logger.error(f\"Erro de timeout ao acessar a url {self.__url}\")\n",
    "            raise to_error\n",
    "\n",
    "        except requests.ConnectionError as conn_error:\n",
    "            logger.error(f\"Erro de conexão ao acessar a url {self.__url}\")\n",
    "            raise conn_error\n",
    "\n",
    "        except requests.HTTPError as http_error:\n",
    "            logger.error(f\"Erro de HTTP ao acessar a url {self.__url} \"\n",
    "                         f\"com status code {http_error.response.status_code}\")\n",
    "            raise http_error\n",
    "\n",
    "        except requests.RequestException as req_error:\n",
    "            logger.error(f\"Erro inesperado ao acessar a url {self.__url}\")\n",
    "            raise req_error\n",
    "\n",
    "\n",
    "    def get_url(self) -> str:\n",
    "        return self.__url\n"
   ]
  },
  {
   "cell_type": "markdown",
   "metadata": {},
   "source": [
    "`infra.adapters.fundamentus_adapter`"
   ]
  },
  {
   "cell_type": "code",
   "execution_count": 6,
   "metadata": {},
   "outputs": [],
   "source": [
    "from bs4 import BeautifulSoup\n",
    "\n",
    "\n",
    "# Definindo adapter para requisições HTTP/HTTPs via requests\n",
    "REQUESTS_ADAPTER = RequestsAdapter(\n",
    "    url=\"https://www.fundamentus.com.br/resultado.php\",\n",
    "    timeout=10,\n",
    "    headers={\n",
    "        \"User-Agent\": \"Mozilla/5.0 (Windows NT 10.0; Win64; x64) AppleWebKit/537.36 \"\n",
    "                      \"(KHTML, like Gecko) Chrome/120.0.0.0 Safari/537.36\"\n",
    "    },\n",
    "    num_retries=3,\n",
    "    backoff_factor=3,\n",
    "    status_forcelist=[500, 502, 503, 504]\n",
    ")\n",
    "\n",
    "\n",
    "class FundamentusGetTickersAdapter(ITickersInfoAdapter):\n",
    "    def __init__(\n",
    "        self,\n",
    "        requests_adapter: RequestsAdapter = REQUESTS_ADAPTER,\n",
    "        html_parser: str = \"lxml\"\n",
    "    ) -> None:\n",
    "        self.__requests_adapter = requests_adapter\n",
    "        self.__html_parser = html_parser\n",
    "\n",
    "\n",
    "    def __get_request_content(self) -> str:\n",
    "        return self.__requests_adapter.get().text\n",
    "\n",
    "\n",
    "    def __parse_html_content(self, html_text: str) -> BeautifulSoup:\n",
    "        if not isinstance(html_text, str):\n",
    "            raise TypeError(\"O conteúdo HTML (html_text) deve ser uma string válida\")\n",
    "\n",
    "        return BeautifulSoup(html_text, self.__html_parser)\n",
    "\n",
    "\n",
    "    def __find_tickers_info(self, html_parsed: BeautifulSoup) -> list[dict[str, str]]:\n",
    "        # Retornando tabela do HTML contendo células que possuem informações de ativos\n",
    "        tickers_cells = list({\n",
    "            row.find(\"td\") for row in html_parsed.find_all(\"tr\") if row.find(\"td\") is not None\n",
    "        })\n",
    "\n",
    "        # Extraindo e consolidando informações em uma lista ordenada de dicionários\n",
    "        tickers_info = sorted([\n",
    "            {\n",
    "                \"codigo_papel\": cell.find(\"a\").text.upper().strip(),\n",
    "                \"nome_companhia\": cell.find(\"span\").get(\"title\").upper().strip()\n",
    "            }\n",
    "            for cell in tickers_cells\n",
    "        ], key=lambda x: x[\"codigo_papel\"])\n",
    "\n",
    "        return tickers_info\n",
    "\n",
    "\n",
    "    def get_tickers(self) -> list[Ticker]:\n",
    "        html_text = self.__get_request_content()\n",
    "        html_parsed = self.__parse_html_content(html_text=html_text)\n",
    "        tickers_info = self.__find_tickers_info(html_parsed=html_parsed)\n",
    "\n",
    "        # Adaptando resultado como instâncias da entidade esperada\n",
    "        tickers_objects = [\n",
    "            Ticker(\n",
    "                code=info[\"codigo_papel\"],\n",
    "                company_name=info[\"nome_companhia\"],\n",
    "                source_info=\"fundamentus\"\n",
    "            )\n",
    "            for info in tickers_info\n",
    "        ]\n",
    "\n",
    "        return tickers_objects\n"
   ]
  },
  {
   "cell_type": "markdown",
   "metadata": {},
   "source": [
    "`infra.repositories.dynamodb_repository`"
   ]
  },
  {
   "cell_type": "code",
   "execution_count": 7,
   "metadata": {},
   "outputs": [],
   "source": [
    "import boto3\n",
    "\n",
    "\n",
    "class DynamodbTickersInfoRepository(ITickersInfoRepository):\n",
    "\n",
    "    def __init__(self, table_name: str, region_name: str):\n",
    "        self.__table_name: str = table_name\n",
    "        self.__region_name: str = region_name\n",
    "        self.__boto3_resource = boto3.resource(\"dynamodb\", region_name=self.__region_name)\n",
    "        self.__dynamodb_table = self.__boto3_resource.Table(self.__table_name)\n",
    "\n",
    "\n",
    "    def persist(self, ticker: Ticker) -> None:\n",
    "        self.__dynamodb_table.put_item(Item=ticker.model_dump())\n"
   ]
  },
  {
   "cell_type": "markdown",
   "metadata": {},
   "source": [
    "`usecases.save_tickers_info_usecase`"
   ]
  },
  {
   "cell_type": "code",
   "execution_count": 8,
   "metadata": {},
   "outputs": [],
   "source": [
    "class SaveTickersInfoUseCase:\n",
    "    def __init__(self, adapter = ITickersInfoAdapter, repository = ITickersInfoRepository):\n",
    "        self.__adapter = adapter\n",
    "        self.__repository = repository\n",
    "\n",
    "    def execute(self):\n",
    "        tickers = self.__adapter.get_tickers()\n",
    "        for ticker in tickers:\n",
    "            self.__repository.persist(ticker=ticker)\n"
   ]
  },
  {
   "cell_type": "code",
   "execution_count": 9,
   "metadata": {},
   "outputs": [],
   "source": [
    "adapter = FundamentusGetTickersAdapter()\n",
    "repository = DynamodbTickersInfoRepository(table_name=\"br_stocks_active_tickers\", region_name=\"us-east-1\")\n",
    "\n",
    "use_case = SaveTickersInfoUseCase(adapter=adapter, repository=repository)\n",
    "#use_case.execute()"
   ]
  },
  {
   "cell_type": "code",
   "execution_count": 10,
   "metadata": {},
   "outputs": [
    {
     "data": {
      "text/plain": [
       "Ticker(code='AALR3', code_international='AALR3.SA', company_name='ALLIAR', source_info='fundamentus', dt_extracted='2025-02-10 22:22:05')"
      ]
     },
     "execution_count": 10,
     "metadata": {},
     "output_type": "execute_result"
    }
   ],
   "source": [
    "tickers = adapter.get_tickers()\n",
    "tickers[0]"
   ]
  },
  {
   "cell_type": "code",
   "execution_count": 19,
   "metadata": {},
   "outputs": [
    {
     "name": "stderr",
     "output_type": "stream",
     "text": [
      "INFO;2025-02-10 22:33:38;1934086383.py;6;Foram inseridos 50 tickers no repositório. Restam 937 tickers (5.07% concluído)\n",
      "INFO;2025-02-10 22:33:38;1934086383.py;6;Foram inseridos 100 tickers no repositório. Restam 887 tickers (10.13% concluído)\n",
      "INFO;2025-02-10 22:33:38;1934086383.py;6;Foram inseridos 150 tickers no repositório. Restam 837 tickers (15.2% concluído)\n",
      "INFO;2025-02-10 22:33:38;1934086383.py;6;Foram inseridos 200 tickers no repositório. Restam 787 tickers (20.26% concluído)\n",
      "INFO;2025-02-10 22:33:38;1934086383.py;6;Foram inseridos 250 tickers no repositório. Restam 737 tickers (25.33% concluído)\n",
      "INFO;2025-02-10 22:33:38;1934086383.py;6;Foram inseridos 300 tickers no repositório. Restam 687 tickers (30.4% concluído)\n",
      "INFO;2025-02-10 22:33:38;1934086383.py;6;Foram inseridos 350 tickers no repositório. Restam 637 tickers (35.46% concluído)\n",
      "INFO;2025-02-10 22:33:38;1934086383.py;6;Foram inseridos 400 tickers no repositório. Restam 587 tickers (40.53% concluído)\n",
      "INFO;2025-02-10 22:33:38;1934086383.py;6;Foram inseridos 450 tickers no repositório. Restam 537 tickers (45.59% concluído)\n",
      "INFO;2025-02-10 22:33:38;1934086383.py;6;Foram inseridos 500 tickers no repositório. Restam 487 tickers (50.66% concluído)\n",
      "INFO;2025-02-10 22:33:38;1934086383.py;6;Foram inseridos 550 tickers no repositório. Restam 437 tickers (55.72% concluído)\n",
      "INFO;2025-02-10 22:33:38;1934086383.py;6;Foram inseridos 600 tickers no repositório. Restam 387 tickers (60.79% concluído)\n",
      "INFO;2025-02-10 22:33:38;1934086383.py;6;Foram inseridos 650 tickers no repositório. Restam 337 tickers (65.86% concluído)\n",
      "INFO;2025-02-10 22:33:38;1934086383.py;6;Foram inseridos 700 tickers no repositório. Restam 287 tickers (70.92% concluído)\n",
      "INFO;2025-02-10 22:33:38;1934086383.py;6;Foram inseridos 750 tickers no repositório. Restam 237 tickers (75.99% concluído)\n",
      "INFO;2025-02-10 22:33:38;1934086383.py;6;Foram inseridos 800 tickers no repositório. Restam 187 tickers (81.05% concluído)\n",
      "INFO;2025-02-10 22:33:39;1934086383.py;6;Foram inseridos 850 tickers no repositório. Restam 137 tickers (86.12% concluído)\n",
      "INFO;2025-02-10 22:33:39;1934086383.py;6;Foram inseridos 900 tickers no repositório. Restam 87 tickers (91.19% concluído)\n",
      "INFO;2025-02-10 22:33:39;1934086383.py;6;Foram inseridos 950 tickers no repositório. Restam 37 tickers (96.25% concluído)\n",
      "INFO;2025-02-10 22:33:39;1934086383.py;9;Processo de extração e escrita de informações finalizado com sucesso para todos os 987 tickers da B3\n"
     ]
    }
   ],
   "source": [
    "for ticker in tickers:\n",
    "    idx = tickers.index(ticker)\n",
    "    if idx > 0 and idx % 50 == 0:\n",
    "        num_tickers_left = len(tickers) - idx\n",
    "        pct_tickers_left = round(100 * (1 - (num_tickers_left / len(tickers))), 2)\n",
    "        logger.info(f\"Foram inseridos {idx} tickers no repositório. \"\n",
    "                    f\"Restam {num_tickers_left} tickers ({pct_tickers_left}% concluído)\")\n",
    "        \n",
    "logger.info(f\"Processo de extração e escrita de informações finalizado com sucesso \"\n",
    "                    f\"para todos os {len(tickers)} tickers da B3\")"
   ]
  },
  {
   "cell_type": "markdown",
   "metadata": {},
   "source": [
    "___"
   ]
  },
  {
   "cell_type": "code",
   "execution_count": 32,
   "metadata": {},
   "outputs": [],
   "source": [
    "# Configurações necessárias para mockar um DynamoDB para fins de testes\n",
    "MOCKED_DYNAMODB_TABLE_NAME = \"mocked_br_stocks_active_tickers\"\n",
    "MOCKED_DYNAMODB_TABLE_KEY_SCHEMA = [\n",
    "    {\n",
    "        \"AttributeName\": \"code\",\n",
    "        \"KeyType\": \"HASH\"\n",
    "    },\n",
    "    {\n",
    "        \"AttributeName\": \"dt_extracted\",\n",
    "        \"KeyType\": \"RANGE\"\n",
    "    }\n",
    "]\n",
    "MOCKED_DYNAMODB_TABLE_ATTRIBUTE_DEFINITIONS = [\n",
    "    {\n",
    "        \"AttributeName\": \"code\",\n",
    "        \"AttributeType\": \"S\"\n",
    "    },\n",
    "    {\n",
    "        \"AttributeName\": \"dt_extracted\",\n",
    "        \"AttributeType\": \"S\"\n",
    "    }\n",
    "]\n",
    "MOCKED_DYNAMODB_TABLE_BILLING_MODE = \"PAY_PER_REQUEST\"\n",
    "MOCKED_BOTO3_CLIENT_REGION = \"us-east-1\""
   ]
  },
  {
   "cell_type": "code",
   "execution_count": 44,
   "metadata": {},
   "outputs": [],
   "source": [
    "from moto import mock_aws\n",
    "import time\n",
    "\n",
    "\n",
    "@mock_aws\n",
    "def dynamodb_repository(ticker=tickers[0]):\n",
    "    # Criando tabela mockada no DynamoDB\n",
    "    boto3_client = boto3.client(\"dynamodb\")\n",
    "    r = boto3_client.create_table(\n",
    "        TableName=MOCKED_DYNAMODB_TABLE_NAME,\n",
    "        KeySchema=MOCKED_DYNAMODB_TABLE_KEY_SCHEMA,\n",
    "        AttributeDefinitions=MOCKED_DYNAMODB_TABLE_ATTRIBUTE_DEFINITIONS,\n",
    "        BillingMode=MOCKED_DYNAMODB_TABLE_BILLING_MODE\n",
    "    )\n",
    "\n",
    "    # Validando criação da tabela\n",
    "    while True:\n",
    "        r = boto3_client.describe_table(TableName=MOCKED_DYNAMODB_TABLE_NAME)\n",
    "        status = r[\"Table\"][\"TableStatus\"]\n",
    "\n",
    "        if status == 'ACTIVE':\n",
    "            break\n",
    "\n",
    "        time.sleep(2)\n",
    "\n",
    "    # Inicializando repositório dentro de escopo mockado\n",
    "    repository = DynamodbTickersInfoRepository(\n",
    "        table_name=MOCKED_DYNAMODB_TABLE_NAME,\n",
    "        region_name=MOCKED_BOTO3_CLIENT_REGION\n",
    "    )\n",
    "\n",
    "    # Validando\n",
    "    repository.persist(ticker=ticker)\n",
    "    r = boto3_client.get_item(\n",
    "        TableName=MOCKED_DYNAMODB_TABLE_NAME,\n",
    "        Key={\n",
    "            \"code\": {\"S\": ticker.code},\n",
    "            \"dt_extracted\": {\"S\": ticker.dt_extracted}\n",
    "        }\n",
    "    )\n",
    "\n",
    "    return r"
   ]
  },
  {
   "cell_type": "code",
   "execution_count": 45,
   "metadata": {},
   "outputs": [],
   "source": [
    "r = dynamodb_repository()"
   ]
  },
  {
   "cell_type": "code",
   "execution_count": 50,
   "metadata": {},
   "outputs": [
    {
     "data": {
      "text/plain": [
       "'AALR3'"
      ]
     },
     "execution_count": 50,
     "metadata": {},
     "output_type": "execute_result"
    }
   ],
   "source": [
    "r[\"Item\"][\"code\"][\"S\"]"
   ]
  },
  {
   "cell_type": "code",
   "execution_count": null,
   "metadata": {},
   "outputs": [],
   "source": []
  }
 ],
 "metadata": {
  "kernelspec": {
   "display_name": ".venv",
   "language": "python",
   "name": "python3"
  },
  "language_info": {
   "codemirror_mode": {
    "name": "ipython",
    "version": 3
   },
   "file_extension": ".py",
   "mimetype": "text/x-python",
   "name": "python",
   "nbconvert_exporter": "python",
   "pygments_lexer": "ipython3",
   "version": "3.13.1"
  }
 },
 "nbformat": 4,
 "nbformat_minor": 2
}
